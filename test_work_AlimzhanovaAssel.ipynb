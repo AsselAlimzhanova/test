{
 "cells": [
  {
   "cell_type": "code",
   "execution_count": 2,
   "id": "df8153a7-59aa-467f-afef-d07254f6783d",
   "metadata": {},
   "outputs": [
    {
     "name": "stdin",
     "output_type": "stream",
     "text": [
      "Имя Фамилия assel alimzhanova\n",
      "Дата рождения (dd/mm/yyyy)\n",
      " 17/03/1990\n",
      "email assel@mail.ru\n",
      "Номер телефона: + 77078287001\n",
      "Место работы (если не работаете, оставьте графу пустой) hkfkhgckhg\n",
      "Месячная заработная плата 500000\n",
      "Сумма других задолженностей в месяц 100000\n"
     ]
    },
    {
     "name": "stdout",
     "output_type": "stream",
     "text": [
      "('Ваш займ готов, мы готовы выдать вам', 4000000, 'рублей на 1 год. Вернуть нужно будет', 5440000.0, 'рублей! Для получения денег, пожалуйста, позвоните по телефону +', 77077070000)\n"
     ]
    }
   ],
   "source": [
    "#запрашиваемые данные-Имя,Фамилия (requested data - Name, Surname)\n",
    "name = input('Имя Фамилия')\n",
    "\n",
    "#дата рождения с расчетом возраста(birth date with age counting)\n",
    "import datetime as DT\n",
    "date_str = input(\"Дата рождения (dd/mm/yyyy)\\n\")\n",
    "birthdate = DT.datetime.strptime(date_str, '%d/%m/%Y').date()\n",
    "age = DT.datetime.now().year-birthdate.year-((DT.datetime.now().month, DT.datetime.now().day) < (birthdate.month, birthdate.day))\n",
    "\n",
    "#email с проверкой верности заполнения(email with validation)\n",
    "def check_email_contains(email_address, characters, min_length=6):\n",
    "    while True:\n",
    "        for character in characters:\n",
    "            if character not in email_address:\n",
    "                email_address = input(\"Ваш email должен содержать '{}' \\nПожалуйста, введите снова: \".format(character))\n",
    "                continue\n",
    "        if len(email_address) <= min_length:\n",
    "            email_address = input(\"Ваш email слишком короткий\\nПожалуйста, введите снова: \")\n",
    "            continue\n",
    "        return email_address\n",
    "email = check_email_contains(input('email'), \"@.\")\n",
    "\n",
    "\n",
    "#Номер телефона по шаблону(Phone number by template )\n",
    "phone_number = input(\"Номер телефона: +\")\n",
    "length = len(phone_number)\n",
    "flag=True\n",
    "if length == 11 and phone_number[:].isdigit(): \n",
    "    flag\n",
    "else:\n",
    "    print(\"Номер введен неверно\")\n",
    "\n",
    "\n",
    "#Место работы(Working place)\n",
    "working_place = input('Место работы (если не работаете, оставьте графу пустой)')\n",
    "\n",
    "#Месячная заработная плата(Monthly salary)\n",
    "month_salary = int(input('Месячная заработная плата'))\n",
    "\n",
    "#Другие расходы(Other depts per month)\n",
    "other_depts = int(input('Сумма других задолженностей в месяц'))\n",
    "\n",
    "#Переменные X(одобренная сумма кредита), Y(сумма к возврату), contact(номер телефона для связи), positive_reply,negative_reply(позитивный и отрицательный ответ на получение кредита)\n",
    "#Varibles X(approved loan amount), Y(amount of money to be returned), contact(phone number for connection), positive_reply,negative_reply(positive and negative replies to receiving a loan)\n",
    "X = (month_salary-other_depts)*10\n",
    "Y = X+X*3/100*12\n",
    "contact = 77077070000\n",
    "positive_reply = 'Ваш займ готов, мы готовы выдать вам', X, 'рублей на 1 год. Вернуть нужно будет', Y, 'рублей! Для получения денег, пожалуйста, позвоните по телефону +', contact\n",
    "negative_reply = 'Простите, мы не можем вам помочь'\n",
    "\n",
    "#Условия для отказа выдачи кредита(conditions for refusal to issue a loan)\n",
    "if age<18 or age>90 or month_salary<100000 or len(working_place)==0:\n",
    "    print(negative_reply)\n",
    "else:\n",
    "    print(positive_reply)\n",
    "\n",
    "\n",
    "\n",
    "\n",
    "\n"
   ]
  },
  {
   "cell_type": "code",
   "execution_count": null,
   "id": "2f173f41-c7f0-40b3-a7f5-948d0a2f724f",
   "metadata": {},
   "outputs": [],
   "source": []
  }
 ],
 "metadata": {
  "kernelspec": {
   "display_name": "Python 3 (ipykernel)",
   "language": "python",
   "name": "python3"
  },
  "language_info": {
   "codemirror_mode": {
    "name": "ipython",
    "version": 3
   },
   "file_extension": ".py",
   "mimetype": "text/x-python",
   "name": "python",
   "nbconvert_exporter": "python",
   "pygments_lexer": "ipython3",
   "version": "3.12.4"
  }
 },
 "nbformat": 4,
 "nbformat_minor": 5
}
